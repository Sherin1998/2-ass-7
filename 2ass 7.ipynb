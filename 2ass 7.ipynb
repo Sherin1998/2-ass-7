{
 "cells": [
  {
   "cell_type": "markdown",
   "metadata": {},
   "source": [
    "#1\n",
    "Try statement are used to detect errors and exceptions in programming during execution.For a non programmer, it is easier if he can understand the cause of error by providing meaningfull sentences.Normally it is used to make the exceptions easy to interpret and rectify.For codes that might throw an exception is enclosed in try clause.If it fails the except clause is executed thereby user can identify where exception occured saving time.\n",
    "Generally Try can be used during file handling where file needs to be closed after use."
   ]
  },
  {
   "cell_type": "markdown",
   "metadata": {},
   "source": [
    "#2\n",
    "Synatax Errors and Logical errors can be handled by exception handling.2 major try statements are\n",
    "IOError : if the file can't be opened. \n",
    "ValueError: Wrong arguement entered.\n",
    "\n"
   ]
  },
  {
   "cell_type": "markdown",
   "metadata": {},
   "source": [
    "#3\n",
    "Raise is used to raise an exception.If we know what type of error will occur,we can explicitily raise an exception and execute the cause to user.Try statement executes the code required and when it fails,raise can be used.Raise allows the particular exception to be handled particulary and for each exception,raise is needed."
   ]
  },
  {
   "cell_type": "markdown",
   "metadata": {},
   "source": [
    "#4\n",
    "Assertion  is a boolean exception handling used for logical expressions. Assert statement is used to check logical expressions are true or false.Program execution proceeds only if the expression is true and raises assertion error if false.Assert keyword is uesd to check the expression and program proceeds only if it is True. It can be used when we want to stop further execution when the obtained value and required value are differnt and further execution is not required.\n",
    "\n",
    "SYNTAX ====>   assert expression\n",
    "                  '''Code Below'''\n",
    "                  \n",
    "                  \n",
    "If statement can be used instead of assert.Moreover logical expression can be handled by try-except."
   ]
  },
  {
   "cell_type": "markdown",
   "metadata": {},
   "source": [
    "#5\n",
    "with statement is used to simplify exception handling specially used in file and database handling cases.This automates the task of closing a file after it is opened with keyword.Thus the required operations to file or database can be done and python automatically closes the connection without using file.close().with statement makes the code compact and much more readable. Thus, with statement helps avoiding bugs and leaks by ensuring that a resource is properly released when the code using the resource is completely executed.\n",
    "\n",
    "Instead of with ,file handling can be done in try -finally clause where operations are done in try clause and finally to close the file. "
   ]
  }
 ],
 "metadata": {
  "kernelspec": {
   "display_name": "Python 3",
   "language": "python",
   "name": "python3"
  },
  "language_info": {
   "codemirror_mode": {
    "name": "ipython",
    "version": 3
   },
   "file_extension": ".py",
   "mimetype": "text/x-python",
   "name": "python",
   "nbconvert_exporter": "python",
   "pygments_lexer": "ipython3",
   "version": "3.8.3"
  }
 },
 "nbformat": 4,
 "nbformat_minor": 4
}
